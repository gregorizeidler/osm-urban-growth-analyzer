{
  "cells": [
    {
      "cell_type": "markdown",
      "metadata": {},
      "source": [
        "# 🏙️ OpenStreetMap Urban Growth Analysis - Getting Started\n",
        "\n",
        "Este notebook demonstra como usar o sistema de análise de crescimento urbano usando dados do OpenStreetMap.\n",
        "\n",
        "## Objetivos do Notebook\n",
        "\n",
        "1. **Configuração inicial** do sistema\n",
        "2. **Coleta de dados** do OpenStreetMap\n",
        "3. **Análise básica** de crescimento urbano\n",
        "4. **Visualizações** interativas\n",
        "5. **Exportação** de resultados\n",
        "\n",
        "---\n"
      ]
    },
    {
      "cell_type": "markdown",
      "metadata": {},
      "source": [
        "## 1. Configuração Inicial\n"
      ]
    },
    {
      "cell_type": "code",
      "execution_count": null,
      "metadata": {},
      "outputs": [],
      "source": [
        "# Importações necessárias\n",
        "import sys\n",
        "from pathlib import Path\n",
        "\n",
        "# Adicionar src ao path do Python\n",
        "project_root = Path().absolute().parent\n",
        "src_path = project_root / \"src\"\n",
        "sys.path.insert(0, str(src_path))\n",
        "\n",
        "# Importar componentes do sistema\n",
        "from osmd import UrbanGrowthAnalyzer, ConfigManager\n",
        "from osmd.utils import BoundingBox, Logger\n",
        "from osmd.visualization import MapVisualizer, ChartGenerator\n",
        "\n",
        "# Configurar display para notebooks\n",
        "import pandas as pd\n",
        "import geopandas as gpd\n",
        "import matplotlib.pyplot as plt\n",
        "import seaborn as sns\n",
        "import folium\n",
        "\n",
        "# Configurações de visualização\n",
        "plt.style.use('seaborn-v0_8')\n",
        "pd.set_option('display.max_columns', None)\n",
        "pd.set_option('display.width', None)\n",
        "\n",
        "print(\"✅ Configuração inicial concluída!\")\n"
      ]
    }
  ],
  "metadata": {
    "language_info": {
      "name": "python"
    }
  },
  "nbformat": 4,
  "nbformat_minor": 2
}
